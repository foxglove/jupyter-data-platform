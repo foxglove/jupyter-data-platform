{
 "cells": [
  {
   "cell_type": "markdown",
   "id": "7bbce570-d518-4f7c-ac72-74d93b11bf32",
   "metadata": {
    "tags": []
   },
   "source": [
    "# Foxglove Data Platform Demo Notebook\n",
    "\n",
    "This notebook demonstrates retrieving data and events from Foxglove Data Platform.\n"
   ]
  },
  {
   "cell_type": "code",
   "execution_count": null,
   "id": "9ae1497f-feaa-4f26-9b75-66d867f5fd2a",
   "metadata": {},
   "outputs": [],
   "source": [
    "# First let's we can create an instance of our client.\n",
    "\n",
    "from foxglove_data_platform.client import Client, OutputFormat\n",
    "\n",
    "client = Client(token=\"fox_sk_CFlhbEgxMQbHBQGRCNE7c3CBaOxtrpk5\")"
   ]
  },
  {
   "cell_type": "code",
   "execution_count": null,
   "id": "61e24c79-0998-44b4-a82c-e385adb84c56",
   "metadata": {},
   "outputs": [],
   "source": [
    "# Next let's use the client to list our imports.\n",
    "\n",
    "import pandas as pd\n",
    "\n",
    "imports = sorted(client.get_imports(), key=lambda i: i[\"start\"])\n",
    "pd.DataFrame(imports, columns=[\"device_id\", \"start\", \"end\", \"filename\"]).head()"
   ]
  },
  {
   "cell_type": "code",
   "execution_count": null,
   "id": "cbbc44ce-4edd-41be-a611-fd53308c8bf9",
   "metadata": {},
   "outputs": [],
   "source": [
    "# This is what a single import looks like\n",
    "\n",
    "imports[0]"
   ]
  },
  {
   "cell_type": "code",
   "execution_count": null,
   "id": "2b3f67c6-0c63-4680-82c1-665b65c0d44f",
   "metadata": {},
   "outputs": [],
   "source": [
    "# Now let's download some GPS data.\n",
    "\n",
    "gps_data = client.download_data(\n",
    "    device_id=imports[1][\"device_id\"],\n",
    "    start=imports[1][\"start\"],\n",
    "    end=imports[1][\"end\"],\n",
    "    topics=[\"/gps\"],\n",
    "    callback=lambda progress: print(\".\", end=\"\"),\n",
    ")"
   ]
  },
  {
   "cell_type": "code",
   "execution_count": null,
   "id": "5b28caf4-09a1-4d81-8499-16977f0d3f79",
   "metadata": {},
   "outputs": [],
   "source": [
    "# Let's read some messages from our mcap stream.\n",
    "\n",
    "from mcap_ros1.ros1_decoder import Ros1Decoder\n",
    "\n",
    "gps_messages = [\n",
    "    (message.latitude, message.longitude)\n",
    "    for topic, record, message in Ros1Decoder(gps_data).messages\n",
    "]\n",
    "\n",
    "pd.DataFrame(gps_messages[0:3], columns=[\"lat\", \"lon\"])"
   ]
  },
  {
   "cell_type": "code",
   "execution_count": null,
   "id": "b3be150f-2d3f-4add-ac0a-b63a66694dc2",
   "metadata": {},
   "outputs": [],
   "source": [
    "# We can use our GPS messages to plot our course on the map.\n",
    "\n",
    "import folium\n",
    "\n",
    "figure = folium.Figure(width=640, height=480)\n",
    "map = folium.Map(location=gps_messages[0], zoom_start=200, width=\"100%\")\n",
    "folium.PolyLine(\n",
    "    locations=gps_messages,\n",
    "    weight=10,\n",
    "    color=\"orange\",\n",
    ").add_to(map)\n",
    "map.add_to(figure)"
   ]
  },
  {
   "cell_type": "code",
   "execution_count": null,
   "id": "d3242bf6-315c-4a8c-975e-a75480409bdf",
   "metadata": {},
   "outputs": [],
   "source": [
    "# We can fetch acceleration data that spans multiple imports\n",
    "\n",
    "imu_data = client.download_data(\n",
    "    device_id=imports[0][\"device_id\"],\n",
    "    start=imports[0][\"start\"],\n",
    "    end=imports[-1][\"end\"],\n",
    "    topics=[\"/imu\"],\n",
    "    callback=lambda progress: print(\".\", end=\"\"),\n",
    ")\n",
    "\n",
    "imu_messages = [\n",
    "    {\n",
    "        \"time\": pd.Timestamp(message.header.stamp.to_nsec(), unit=\"ns\").isoformat(),\n",
    "        \"accel_x\": message.linear_acceleration.x,\n",
    "        \"accel_y\": message.linear_acceleration.y,\n",
    "    }\n",
    "    for topic, record, message in Ros1Decoder(imu_data).messages\n",
    "]\n",
    "imu_frame = pd.DataFrame(imu_messages)"
   ]
  },
  {
   "cell_type": "code",
   "execution_count": null,
   "id": "20252898-ea2f-4f5d-9d0a-ffa3dc32c577",
   "metadata": {},
   "outputs": [],
   "source": [
    "imu_frame.plot(x=\"time\", figsize=(10, 6), rot=45)"
   ]
  },
  {
   "cell_type": "code",
   "execution_count": null,
   "id": "c15e8a08-2c39-4083-8b25-1d603c3bae9f",
   "metadata": {},
   "outputs": [],
   "source": [
    "markers_data = client.download_data(\n",
    "    device_id=imports[1][\"device_id\"],\n",
    "    start=imports[1][\"start\"],\n",
    "    end=imports[1][\"end\"],\n",
    "    topics=[\"/markers/annotations\"],\n",
    "    callback=lambda progress: print(\".\", end=\"\"),\n",
    ")"
   ]
  },
  {
   "cell_type": "code",
   "execution_count": null,
   "id": "18f209f0-93b7-4fe3-9d84-b7b2561bd666",
   "metadata": {},
   "outputs": [],
   "source": [
    "import matplotlib as mpl\n",
    "\n",
    "from pandasql import sqldf\n",
    "\n",
    "color_to_classname = {\n",
    "    \"#000000\": \"noise\",\n",
    "    \"#468250\": \"animal\",\n",
    "    \"#0000e6\": \"human.pedestrian.adult\",\n",
    "    \"#87ceeb\": \"human.pedestrian.child\",\n",
    "    \"#f08080\": \"human.pedestrian.construction_worker\",\n",
    "    \"#db7093\": \"human.pedestrian.personal_mobility\",\n",
    "    \"#000080\": \"human.pedestrian.police_officer\",\n",
    "    \"#f08080\": \"human.pedestrian.stroller\",\n",
    "    \"#8a2be2\": \"human.pedestrian.wheelchair\",\n",
    "    \"#708090\": \"movable_object.barrier\",\n",
    "    \"#d2691e\": \"movable_object.debris\",\n",
    "    \"#696969\": \"movable_object.pushable_pullable\",\n",
    "    \"#2f4f4f\": \"movable_object.trafficcone\",\n",
    "    \"#bc8f8f\": \"static_object.bicycle_rack\",\n",
    "    \"#dc143c\": \"vehicle.bicycle\",\n",
    "    \"#ff7f50\": \"vehicle.bus.bendy\",\n",
    "    \"#ff4500\": \"vehicle.bus.rigid\",\n",
    "    \"#ff9e00\": \"vehicle.car\",\n",
    "    \"#e99646\": \"vehicle.construction\",\n",
    "    \"#ffd700\": \"vehicle.emergency.ambulance\",\n",
    "    \"#ffd700\": \"vehicle.emergency.police\",\n",
    "    \"#ff3d63\": \"vehicle.motorcycle\",\n",
    "    \"#ff8c00\": \"vehicle.trailer\",\n",
    "    \"#ff6347\": \"vehicle.truck\",\n",
    "    \"#00cfbf\": \"flat.driveable_surface\",\n",
    "    \"#af004b\": \"flat.other\",\n",
    "    \"#4b004b\": \"flat.sidewalk\",\n",
    "    \"#70b43c\": \"flat.terrain\",\n",
    "    \"#deb887\": \"static.manmade\",\n",
    "    \"#ffe4c4\": \"static.other\",\n",
    "    \"#00af00\": \"static.vegetation\",\n",
    "    \"#fff0f5\": \"vehicle.ego\"\n",
    "}\n",
    "\n",
    "markers_messages = []\n",
    "for topic, record, message in Ros1Decoder(markers_data).messages:\n",
    "  for marker in message.markers:\n",
    "    color = mpl.colors.to_hex([marker.color.r, marker.color.g, marker.color.b])\n",
    "    class_name = color_to_classname[color]\n",
    "    markers_messages.append((marker.text, class_name))\n",
    "annotations = pd.DataFrame(markers_messages, columns=[\"annotation_id\", \"class_name\"])\n",
    "\n",
    "pysqldf = lambda q: sqldf(q, globals())\n",
    "pysqldf(\"SELECT class_name,COUNT(*) as count FROM annotations GROUP BY class_name ORDER BY count DESC\")"
   ]
  }
 ],
 "metadata": {
  "kernelspec": {
   "display_name": "Python 3 (ipykernel)",
   "language": "python",
   "name": "python3"
  },
  "language_info": {
   "codemirror_mode": {
    "name": "ipython",
    "version": 3
   },
   "file_extension": ".py",
   "mimetype": "text/x-python",
   "name": "python",
   "nbconvert_exporter": "python",
   "pygments_lexer": "ipython3",
   "version": "3.8.9"
  }
 },
 "nbformat": 4,
 "nbformat_minor": 5
}
