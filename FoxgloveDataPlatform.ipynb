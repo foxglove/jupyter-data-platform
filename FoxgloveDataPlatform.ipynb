{
 "cells": [
  {
   "cell_type": "markdown",
   "id": "7bbce570-d518-4f7c-ac72-74d93b11bf32",
   "metadata": {
    "tags": []
   },
   "source": [
    "# Foxglove Data Platform Demo Notebook\n",
    "\n",
    "This notebook demonstrates retrieving data and events from Foxglove Data Platform.\n"
   ]
  },
  {
   "cell_type": "code",
   "execution_count": null,
   "id": "9ae1497f-feaa-4f26-9b75-66d867f5fd2a",
   "metadata": {},
   "outputs": [],
   "source": [
    "# First let's we can create an instance of our client.\n",
    "\n",
    "from datetime import datetime\n",
    "\n",
    "import pandas as pd\n",
    "from foxglove_data_platform.client import Client\n",
    "\n",
    "client = Client(token=\"fox_sk_CFlhbEgxMQbHBQGRCNE7c3CBaOxtrpk5\")"
   ]
  },
  {
   "cell_type": "code",
   "execution_count": null,
   "id": "61e24c79-0998-44b4-a82c-e385adb84c56",
   "metadata": {},
   "outputs": [],
   "source": [
    "# Next let's use the client to find our data coverage.\n",
    "\n",
    "coverage = client.get_coverage(start=datetime(2018, 1, 1), end=datetime(2019, 1, 1))\n",
    "coverage = sorted(coverage, key=lambda c: c[\"start\"])\n",
    "pd.DataFrame(coverage).head()"
   ]
  },
  {
   "cell_type": "code",
   "execution_count": null,
   "id": "2b3f67c6-0c63-4680-82c1-665b65c0d44f",
   "metadata": {},
   "outputs": [],
   "source": [
    "# Now let's download some GPS messages.\n",
    "\n",
    "gps_messages = [\n",
    "    (message.latitude, message.longitude)\n",
    "    for topic, record, message in client.get_messages(\n",
    "        device_id=coverage[1][\"device_id\"],\n",
    "        start=coverage[1][\"start\"],\n",
    "        end=coverage[1][\"end\"],\n",
    "        topics=[\"/gps\"],\n",
    "    )\n",
    "]\n",
    "pd.DataFrame(gps_messages, columns=[\"lat\", \"lon\"]).head()"
   ]
  },
  {
   "cell_type": "code",
   "execution_count": null,
   "id": "b3be150f-2d3f-4add-ac0a-b63a66694dc2",
   "metadata": {},
   "outputs": [],
   "source": [
    "# We can use our GPS messages to plot our course on the map.\n",
    "\n",
    "import folium\n",
    "\n",
    "figure = folium.Figure(width=640, height=480)\n",
    "map = folium.Map(location=gps_messages[0], zoom_start=200, width=\"100%\")\n",
    "folium.PolyLine(\n",
    "    locations=gps_messages,\n",
    "    weight=10,\n",
    "    color=\"purple\",\n",
    ").add_to(map)\n",
    "map.add_to(figure)"
   ]
  },
  {
   "cell_type": "code",
   "execution_count": null,
   "id": "d3242bf6-315c-4a8c-975e-a75480409bdf",
   "metadata": {},
   "outputs": [],
   "source": [
    "# We can fetch acceleration messages that span multiple imports\n",
    "\n",
    "imu_messages = [\n",
    "    {\n",
    "        \"time\": pd.Timestamp(message.header.stamp.to_nsec(), unit=\"ns\").isoformat(),\n",
    "        \"accel_x\": message.linear_acceleration.x,\n",
    "        \"accel_y\": message.linear_acceleration.y,\n",
    "    }\n",
    "    for topic, record, message in client.get_messages(\n",
    "        device_id=coverage[0][\"device_id\"],\n",
    "        start=coverage[0][\"start\"],\n",
    "        end=coverage[-1][\"end\"],\n",
    "        topics=[\"/imu\"],\n",
    "    )\n",
    "]\n",
    "pd.DataFrame(imu_messages).plot(x=\"time\", figsize=(10, 6), rot=45)"
   ]
  },
  {
   "cell_type": "code",
   "execution_count": null,
   "id": "c15e8a08-2c39-4083-8b25-1d603c3bae9f",
   "metadata": {},
   "outputs": [],
   "source": [
    "marker_messages = client.get_messages(\n",
    "    device_id=coverage[1][\"device_id\"],\n",
    "    start=coverage[1][\"start\"],\n",
    "    end=coverage[1][\"end\"],\n",
    "    topics=[\"/markers/annotations\"],\n",
    ")"
   ]
  },
  {
   "cell_type": "code",
   "execution_count": null,
   "id": "18f209f0-93b7-4fe3-9d84-b7b2561bd666",
   "metadata": {},
   "outputs": [],
   "source": [
    "import matplotlib as mpl\n",
    "from pandasql import sqldf\n",
    "\n",
    "color_to_classname = {\n",
    "    \"#000000\": \"noise\",\n",
    "    \"#468250\": \"animal\",\n",
    "    \"#0000e6\": \"human.pedestrian.adult\",\n",
    "    \"#87ceeb\": \"human.pedestrian.child\",\n",
    "    \"#f08080\": \"human.pedestrian.construction_worker\",\n",
    "    \"#db7093\": \"human.pedestrian.personal_mobility\",\n",
    "    \"#000080\": \"human.pedestrian.police_officer\",\n",
    "    \"#f08080\": \"human.pedestrian.stroller\",\n",
    "    \"#8a2be2\": \"human.pedestrian.wheelchair\",\n",
    "    \"#708090\": \"movable_object.barrier\",\n",
    "    \"#d2691e\": \"movable_object.debris\",\n",
    "    \"#696969\": \"movable_object.pushable_pullable\",\n",
    "    \"#2f4f4f\": \"movable_object.trafficcone\",\n",
    "    \"#bc8f8f\": \"static_object.bicycle_rack\",\n",
    "    \"#dc143c\": \"vehicle.bicycle\",\n",
    "    \"#ff7f50\": \"vehicle.bus.bendy\",\n",
    "    \"#ff4500\": \"vehicle.bus.rigid\",\n",
    "    \"#ff9e00\": \"vehicle.car\",\n",
    "    \"#e99646\": \"vehicle.construction\",\n",
    "    \"#ffd700\": \"vehicle.emergency.ambulance\",\n",
    "    \"#ffd700\": \"vehicle.emergency.police\",\n",
    "    \"#ff3d63\": \"vehicle.motorcycle\",\n",
    "    \"#ff8c00\": \"vehicle.trailer\",\n",
    "    \"#ff6347\": \"vehicle.truck\",\n",
    "    \"#00cfbf\": \"flat.driveable_surface\",\n",
    "    \"#af004b\": \"flat.other\",\n",
    "    \"#4b004b\": \"flat.sidewalk\",\n",
    "    \"#70b43c\": \"flat.terrain\",\n",
    "    \"#deb887\": \"static.manmade\",\n",
    "    \"#ffe4c4\": \"static.other\",\n",
    "    \"#00af00\": \"static.vegetation\",\n",
    "    \"#fff0f5\": \"vehicle.ego\",\n",
    "}\n",
    "\n",
    "flattened_markers = []\n",
    "for topic, record, message in marker_messages:\n",
    "    for marker in message.markers:\n",
    "        color = mpl.colors.to_hex([marker.color.r, marker.color.g, marker.color.b])\n",
    "        class_name = color_to_classname[color]\n",
    "        flattened_markers.append((marker.text, class_name))\n",
    "annotations = pd.DataFrame(flattened_markers, columns=[\"annotation_id\", \"class_name\"])\n",
    "\n",
    "pysqldf = lambda q: sqldf(q, globals())\n",
    "pysqldf(\n",
    "    \"SELECT class_name,COUNT(*) as count FROM annotations GROUP BY class_name ORDER BY count DESC\"\n",
    ")"
   ]
  }
 ],
 "metadata": {
  "kernelspec": {
   "display_name": "Python 3 (ipykernel)",
   "language": "python",
   "name": "python3"
  },
  "language_info": {
   "codemirror_mode": {
    "name": "ipython",
    "version": 3
   },
   "file_extension": ".py",
   "mimetype": "text/x-python",
   "name": "python",
   "nbconvert_exporter": "python",
   "pygments_lexer": "ipython3",
   "version": "3.8.9"
  }
 },
 "nbformat": 4,
 "nbformat_minor": 5
}
