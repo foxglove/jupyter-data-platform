{
 "cells": [
  {
   "cell_type": "markdown",
   "id": "7bbce570-d518-4f7c-ac72-74d93b11bf32",
   "metadata": {
    "tags": []
   },
   "source": [
    "# Foxglove Data Platform Demo Notebook\n",
    "\n",
    "This notebook demonstrates retrieving data and events from Foxglove Data Platform.\n"
   ]
  },
  {
   "cell_type": "code",
   "execution_count": null,
   "id": "a4ced38b-c658-4860-8c73-67e0deb6bd3b",
   "metadata": {},
   "outputs": [],
   "source": [
    "# Load our API key from our .env file\n",
    "\n",
    "from dotenv import dotenv_values\n",
    "\n",
    "config = dotenv_values(\".env\")\n",
    "api_key = config[\"API_KEY\"]\n",
    "api_key"
   ]
  },
  {
   "cell_type": "code",
   "execution_count": null,
   "id": "9ae1497f-feaa-4f26-9b75-66d867f5fd2a",
   "metadata": {},
   "outputs": [],
   "source": [
    "# Now we can create an instance of our client.\n",
    "\n",
    "from foxglove.data_platform.client import Client, OutputFormat\n",
    "\n",
    "client = Client(token=api_key)"
   ]
  },
  {
   "cell_type": "code",
   "execution_count": null,
   "id": "61e24c79-0998-44b4-a82c-e385adb84c56",
   "metadata": {},
   "outputs": [],
   "source": [
    "# Next let's use the client to list some events.\n",
    "\n",
    "events = client.list_events(\n",
    "    device_name=\"Milesbot\", limit=5, key=\"position\", value=\"start\"\n",
    ")"
   ]
  },
  {
   "cell_type": "code",
   "execution_count": null,
   "id": "c9e420a0-422d-4f51-b264-e9330ce2a9c4",
   "metadata": {},
   "outputs": [],
   "source": [
    "# Now we can download some data from data platform.\n",
    "\n",
    "import sys\n",
    "from datetime import datetime, timedelta\n",
    "\n",
    "start_event = events[-1]\n",
    "start_time = start_event[\"timestamp\"]\n",
    "end_time = start_time + timedelta(seconds=60 * 10)\n",
    "device_id = start_event[\"device_id\"]\n",
    "\n",
    "download_stream = client.download_data(\n",
    "    device_id=device_id,\n",
    "    start=start_time,\n",
    "    end=end_time,\n",
    "    output_format=OutputFormat.mcap0,\n",
    "    topics=[\"/gps\"],\n",
    ")\n",
    "\n",
    "data = bytes()\n",
    "for chunk in download_stream.iter_content(chunk_size=64 * 1024):\n",
    "    data += chunk\n",
    "len(data)"
   ]
  },
  {
   "cell_type": "code",
   "execution_count": null,
   "id": "5b28caf4-09a1-4d81-8499-16977f0d3f79",
   "metadata": {},
   "outputs": [],
   "source": [
    "# Let's read some messages from our mcap stream.\n",
    "\n",
    "from io import BytesIO\n",
    "\n",
    "import pandas\n",
    "from mcap.mcap0.stream_reader import StreamReader\n",
    "from mcap_ros1.ros1_decoder import Ros1Decoder\n",
    "\n",
    "reader = StreamReader(BytesIO(data))\n",
    "decoder = Ros1Decoder(reader)\n",
    "messages = [\n",
    "    (message.latitude, message.longitude) for topic, message in decoder.messages\n",
    "]\n",
    "pandas.DataFrame(messages[0:3], columns=[\"lat\", \"lon\"])"
   ]
  },
  {
   "cell_type": "code",
   "execution_count": null,
   "id": "b3be150f-2d3f-4add-ac0a-b63a66694dc2",
   "metadata": {},
   "outputs": [],
   "source": [
    "import folium\n",
    "\n",
    "map = folium.Map(location=messages[0], zoom_start=200, width=\"50%\")\n",
    "folium.PolyLine(\n",
    "    locations=messages,\n",
    "    weight=10,\n",
    "    color=\"orange\",\n",
    ").add_to(map)\n",
    "map"
   ]
  },
  {
   "cell_type": "code",
   "execution_count": null,
   "id": "15737de0-1774-4a45-9968-5c74f75a36e0",
   "metadata": {},
   "outputs": [],
   "source": []
  }
 ],
 "metadata": {
  "kernelspec": {
   "display_name": "Python 3 (ipykernel)",
   "language": "python",
   "name": "python3"
  },
  "language_info": {
   "codemirror_mode": {
    "name": "ipython",
    "version": 3
   },
   "file_extension": ".py",
   "mimetype": "text/x-python",
   "name": "python",
   "nbconvert_exporter": "python",
   "pygments_lexer": "ipython3",
   "version": "3.8.9"
  }
 },
 "nbformat": 4,
 "nbformat_minor": 5
}
