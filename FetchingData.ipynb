{
 "cells": [
  {
   "cell_type": "markdown",
   "id": "7bbce570-d518-4f7c-ac72-74d93b11bf32",
   "metadata": {
    "tags": []
   },
   "source": [
    "# Foxglove Data Platform Demo Notebook\n",
    "\n",
    "This notebook demonstrates retrieving data and events from Foxglove Data Platform.\n"
   ]
  },
  {
   "cell_type": "code",
   "execution_count": null,
   "id": "9ae1497f-feaa-4f26-9b75-66d867f5fd2a",
   "metadata": {},
   "outputs": [],
   "source": [
    "# First let's we can create an instance of our client.\n",
    "\n",
    "from foxglove_data_platform.client import Client, OutputFormat\n",
    "\n",
    "client = Client(token=\"fox_sk_CFlhbEgxMQbHBQGRCNE7c3CBaOxtrpk5\")"
   ]
  },
  {
   "cell_type": "code",
   "execution_count": null,
   "id": "61e24c79-0998-44b4-a82c-e385adb84c56",
   "metadata": {},
   "outputs": [],
   "source": [
    "# Next let's use the client to list our imports.\n",
    "\n",
    "import pandas\n",
    "\n",
    "imports = sorted(client.get_imports(), key=lambda i: i[\"start\"])\n",
    "pandas.DataFrame(imports[0:3], columns=[\"device_id\", \"start\", \"end\", \"filename\"])"
   ]
  },
  {
   "cell_type": "code",
   "execution_count": null,
   "id": "c9e420a0-422d-4f51-b264-e9330ce2a9c4",
   "metadata": {},
   "outputs": [],
   "source": [
    "# Now let's download some GPS data.\n",
    "\n",
    "gps_data = client.download_data(\n",
    "    device_id=imports[1][\"device_id\"],\n",
    "    start=imports[1][\"start\"],\n",
    "    end=imports[1][\"end\"],\n",
    "    topics=[\"/gps\"],\n",
    "    callback=lambda progress: print(\".\", end=\"\"),\n",
    ")"
   ]
  },
  {
   "cell_type": "code",
   "execution_count": null,
   "id": "5b28caf4-09a1-4d81-8499-16977f0d3f79",
   "metadata": {},
   "outputs": [],
   "source": [
    "# Let's read some messages from our mcap stream.\n",
    "\n",
    "from io import BytesIO\n",
    "\n",
    "import pandas\n",
    "from mcap.mcap0.stream_reader import StreamReader\n",
    "from mcap_ros1.ros1_decoder import Ros1Decoder\n",
    "\n",
    "gps_reader = StreamReader(BytesIO(gps_data))\n",
    "gps_decoder = Ros1Decoder(gps_reader)\n",
    "gps_messages = [\n",
    "    (message.latitude, message.longitude)\n",
    "    for topic, record, message in gps_decoder.messages\n",
    "]\n",
    "pandas.DataFrame(gps_messages[0:3], columns=[\"lat\", \"lon\"])"
   ]
  },
  {
   "cell_type": "code",
   "execution_count": null,
   "id": "b3be150f-2d3f-4add-ac0a-b63a66694dc2",
   "metadata": {},
   "outputs": [],
   "source": [
    "# We can use our GPS messages to plot our course on the map.\n",
    "\n",
    "import folium\n",
    "\n",
    "map = folium.Map(location=gps_messages[0], zoom_start=200, width=\"50%\")\n",
    "folium.PolyLine(\n",
    "    locations=gps_messages,\n",
    "    weight=10,\n",
    "    color=\"orange\",\n",
    ").add_to(map)\n",
    "map"
   ]
  },
  {
   "cell_type": "code",
   "execution_count": null,
   "id": "d3242bf6-315c-4a8c-975e-a75480409bdf",
   "metadata": {},
   "outputs": [],
   "source": [
    "# We can fetch acceleration data that spans multiple imports\n",
    "\n",
    "imu_data = client.download_data(\n",
    "    device_id=imports[0][\"device_id\"],\n",
    "    start=imports[0][\"start\"],\n",
    "    end=imports[-1][\"end\"],\n",
    "    topics=[\"/imu\"],\n",
    "    callback=lambda progress: print(\".\", end=\"\"),\n",
    ")\n",
    "\n",
    "imu_reader = StreamReader(BytesIO(imu_data))\n",
    "imu_decoder = Ros1Decoder(imu_reader)\n",
    "imu_messages = [\n",
    "    {\n",
    "        \"time\": pandas.Timestamp(message.header.stamp.to_nsec(), unit=\"ns\").isoformat(),\n",
    "        \"accel_x\": message.linear_acceleration.x,\n",
    "        \"accel_y\": message.linear_acceleration.y,\n",
    "    }\n",
    "    for topic, record, message in imu_decoder.messages\n",
    "]\n",
    "imu_frame = pandas.DataFrame(imu_messages)"
   ]
  },
  {
   "cell_type": "code",
   "execution_count": null,
   "id": "20252898-ea2f-4f5d-9d0a-ffa3dc32c577",
   "metadata": {},
   "outputs": [],
   "source": [
    "imu_frame.plot(x=\"time\", figsize=(10, 6), rot=45)"
   ]
  },
  {
   "cell_type": "code",
   "execution_count": null,
   "id": "c15e8a08-2c39-4083-8b25-1d603c3bae9f",
   "metadata": {},
   "outputs": [],
   "source": []
  }
 ],
 "metadata": {
  "kernelspec": {
   "display_name": "Python 3 (ipykernel)",
   "language": "python",
   "name": "python3"
  },
  "language_info": {
   "codemirror_mode": {
    "name": "ipython",
    "version": 3
   },
   "file_extension": ".py",
   "mimetype": "text/x-python",
   "name": "python",
   "nbconvert_exporter": "python",
   "pygments_lexer": "ipython3",
   "version": "3.8.9"
  }
 },
 "nbformat": 4,
 "nbformat_minor": 5
}
