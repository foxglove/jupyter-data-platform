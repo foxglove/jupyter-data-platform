{
 "cells": [
  {
   "cell_type": "markdown",
   "id": "7bbce570-d518-4f7c-ac72-74d93b11bf32",
   "metadata": {
    "tags": []
   },
   "source": [
    "# Foxglove Data Platform Demo Notebook\n",
    "\n",
    "This notebook demonstrates retrieving data and events from Foxglove Data Platform.\n"
   ]
  },
  {
   "cell_type": "code",
   "execution_count": 1,
   "id": "effdf7d8-2748-4f36-9de2-6e50e7aabc1f",
   "metadata": {},
   "outputs": [],
   "source": [
    "# First we create an instance of our client.\n",
    "\n",
    "from foxglove.data_platform.client import Client, OutputFormat\n",
    "\n",
    "token = \"fox_sk_SBK5ew4HwygFEw9gTdttnLsh3pCtXEoe\"\n",
    "client = Client(token=token)"
   ]
  },
  {
   "cell_type": "code",
   "execution_count": 2,
   "id": "61e24c79-0998-44b4-a82c-e385adb84c56",
   "metadata": {},
   "outputs": [
    {
     "name": "stdout",
     "output_type": "stream",
     "text": [
      "+----------------------+-----------------------+---------------------------+\n",
      "|          id          |       metadata        |         timestamp         |\n",
      "+----------------------+-----------------------+---------------------------+\n",
      "| evt_Bcf8Q6qI7cOaveRM | {'position': 'start'} | 2018-07-24 03:28:47+00:00 |\n",
      "+----------------------+-----------------------+---------------------------+\n"
     ]
    }
   ],
   "source": [
    "# Next let's use the client to list some events.\n",
    "\n",
    "import tabulate\n",
    "\n",
    "events = client.list_events(device_name=\"Robot\", limit=5, key=\"position\", value=\"start\")\n",
    "desired_fields = [\"id\", \"metadata\", \"timestamp\"]\n",
    "filtered_events = [{k: v for k, v in e.items() if k in desired_fields} for e in events]\n",
    "print(tabulate.tabulate(filtered_events, headers=\"keys\", tablefmt=\"pretty\"))"
   ]
  },
  {
   "cell_type": "code",
   "execution_count": 3,
   "id": "c9e420a0-422d-4f51-b264-e9330ce2a9c4",
   "metadata": {},
   "outputs": [
    {
     "name": "stdout",
     "output_type": "stream",
     "text": [
      "...................................................................................\n",
      "read 3296795 bytes\n"
     ]
    }
   ],
   "source": [
    "# Now we can download some data from data platform.\n",
    "\n",
    "import sys\n",
    "from datetime import datetime, timedelta\n",
    "\n",
    "start_event = events[-1]\n",
    "start_time = start_event[\"timestamp\"]\n",
    "end_time = start_time + timedelta(seconds=1)\n",
    "device_id = start_event[\"device_id\"]\n",
    "\n",
    "download_stream = client.download_data(\n",
    "    device_id=device_id,\n",
    "    start=start_time,\n",
    "    end=end_time,\n",
    "    output_format=OutputFormat.mcap0,\n",
    ")\n",
    "\n",
    "data = bytes()\n",
    "for chunk in download_stream.iter_content(chunk_size=64 * 1024):\n",
    "    sys.stdout.write(\".\")\n",
    "    data += chunk\n",
    "print()\n",
    "print(f\"read {len(data)} bytes\")"
   ]
  },
  {
   "cell_type": "code",
   "execution_count": 4,
   "id": "5b28caf4-09a1-4d81-8499-16977f0d3f79",
   "metadata": {},
   "outputs": [
    {
     "name": "stdout",
     "output_type": "stream",
     "text": [
      "+------------+-----------+----------------------+\n",
      "|    secs    |   nsecs   |          x           |\n",
      "+------------+-----------+----------------------+\n",
      "| 1532402927 | 649034000 | -0.41128969192504883 |\n",
      "| 1532402927 | 659077000 | -0.5330492258071899  |\n",
      "| 1532402927 | 669063000 |  -0.738662838935852  |\n",
      "| 1532402927 | 681086000 | -0.5571042895317078  |\n",
      "| 1532402927 | 689005000 | -0.7012737393379211  |\n",
      "| 1532402927 | 701017000 | -0.8273831605911255  |\n",
      "| 1532402927 | 722025000 | -0.7110494375228882  |\n",
      "| 1532402927 | 726012000 | -0.7359715700149536  |\n",
      "| 1532402927 | 729008000 | -0.7674471139907837  |\n",
      "| 1532402927 | 739004000 |  -0.374155730009079  |\n",
      "| 1532402927 | 749027000 | -0.7169121503829956  |\n",
      "| 1532402927 | 759016000 | -0.7339585423469543  |\n",
      "| 1532402927 | 769016000 | -0.6623514890670776  |\n",
      "| 1532402927 | 781014000 | -0.7557196617126465  |\n",
      "| 1532402927 | 789011000 | -0.7842211723327637  |\n",
      "| 1532402927 | 801008000 | -0.49836426973342896 |\n",
      "| 1532402927 | 823013000 | -0.5673020482063293  |\n",
      "| 1532402927 | 826012000 |  -0.412362277507782  |\n",
      "| 1532402927 | 829008000 | -0.4159470498561859  |\n",
      "| 1532402927 | 838937000 | -0.6900583505630493  |\n",
      "| 1532402927 | 848913000 |  -0.818759560585022  |\n",
      "| 1532402927 | 858942000 | -0.47662702202796936 |\n",
      "| 1532402927 | 868937000 |  -0.591797947883606  |\n",
      "| 1532402927 | 880895000 | -0.6643785238265991  |\n",
      "| 1532402927 | 888891000 | -0.6660939455032349  |\n",
      "| 1532402927 | 900992000 | -0.4009881913661957  |\n",
      "| 1532402927 | 922870000 | -0.5223349332809448  |\n",
      "| 1532402927 | 925890000 | -0.6865041851997375  |\n",
      "| 1532402927 | 928868000 | -0.6986468434333801  |\n",
      "| 1532402927 | 938874000 | -0.5569115877151489  |\n",
      "| 1532402927 | 948919000 | -0.45579060912132263 |\n",
      "| 1532402927 | 958878000 | -0.6951096653938293  |\n",
      "| 1532402927 | 968864000 |  -0.662846028804779  |\n",
      "| 1532402927 | 980877000 | -0.5855039358139038  |\n",
      "| 1532402927 | 988867000 | -0.4009590744972229  |\n",
      "+------------+-----------+----------------------+\n"
     ]
    }
   ],
   "source": [
    "# Let's unpack some schemas, channels, and messages, from our mcap stream.\n",
    "\n",
    "from io import BytesIO\n",
    "\n",
    "from genpy import dynamic\n",
    "from mcap.mcap0.records import Channel, Message, Schema\n",
    "from mcap.mcap0.stream_reader import StreamReader\n",
    "\n",
    "reader = StreamReader(BytesIO(data))\n",
    "channels = {}\n",
    "schemas = {}\n",
    "messages = []\n",
    "msg_types = {}\n",
    "for record in reader.records:\n",
    "    if isinstance(record, Schema):\n",
    "        schemas[record.id] = record\n",
    "        if not record.name in msg_types:\n",
    "            type = dynamic.generate_dynamic(record.name, record.data.decode())\n",
    "            msg_types[record.name] = type[record.name]\n",
    "    if isinstance(record, Channel):\n",
    "        channels[record.id] = record\n",
    "    if isinstance(record, Message):\n",
    "        channel = channels[record.channel_id]\n",
    "        schema = schemas[channel.schema_id]\n",
    "        message = msg_types[schema.name]().deserialize(record.data)        \n",
    "        if schema.name == \"sensor_msgs/Imu\":\n",
    "            messages.append(\n",
    "                {\n",
    "                    \"secs\": message.header.stamp.secs,\n",
    "                    \"nsecs\": message.header.stamp.nsecs,\n",
    "                    \"x\": message.linear_acceleration.x,\n",
    "                }\n",
    "            )\n",
    "print(tabulate.tabulate(messages, headers=\"keys\", tablefmt=\"pretty\"))"
   ]
  },
  {
   "cell_type": "code",
   "execution_count": null,
   "id": "85ffe246-0138-4cf3-99cb-096000232822",
   "metadata": {},
   "outputs": [],
   "source": []
  }
 ],
 "metadata": {
  "kernelspec": {
   "display_name": "Python 3 (ipykernel)",
   "language": "python",
   "name": "python3"
  },
  "language_info": {
   "codemirror_mode": {
    "name": "ipython",
    "version": 3
   },
   "file_extension": ".py",
   "mimetype": "text/x-python",
   "name": "python",
   "nbconvert_exporter": "python",
   "pygments_lexer": "ipython3",
   "version": "3.8.9"
  }
 },
 "nbformat": 4,
 "nbformat_minor": 5
}
