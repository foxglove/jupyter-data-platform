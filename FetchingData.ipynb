{
 "cells": [
  {
   "cell_type": "markdown",
   "id": "7bbce570-d518-4f7c-ac72-74d93b11bf32",
   "metadata": {
    "tags": []
   },
   "source": [
    "# Foxglove Data Platform Demo Notebook\n",
    "\n",
    "This notebook demonstrates retrieving data and events from Foxglove Data Platform.\n"
   ]
  },
  {
   "cell_type": "code",
   "execution_count": 1,
   "id": "a4ced38b-c658-4860-8c73-67e0deb6bd3b",
   "metadata": {},
   "outputs": [
    {
     "data": {
      "text/plain": [
       "'fox_sk_7fgp0VTlRnjsWGvJ6b5cF4hBDYVNy6Jf'"
      ]
     },
     "execution_count": 1,
     "metadata": {},
     "output_type": "execute_result"
    }
   ],
   "source": [
    "# Load our API key from our .env file\n",
    "\n",
    "from dotenv import dotenv_values\n",
    "\n",
    "config = dotenv_values(\".env\")\n",
    "api_key = config[\"API_KEY\"]\n",
    "api_key"
   ]
  },
  {
   "cell_type": "code",
   "execution_count": 2,
   "id": "9ae1497f-feaa-4f26-9b75-66d867f5fd2a",
   "metadata": {},
   "outputs": [],
   "source": [
    "# Now we can create an instance of our client.\n",
    "\n",
    "from foxglove.data_platform.client import Client, OutputFormat\n",
    "\n",
    "client = Client(token=api_key)"
   ]
  },
  {
   "cell_type": "code",
   "execution_count": 3,
   "id": "61e24c79-0998-44b4-a82c-e385adb84c56",
   "metadata": {},
   "outputs": [
    {
     "data": {
      "text/html": [
       "<div>\n",
       "<style scoped>\n",
       "    .dataframe tbody tr th:only-of-type {\n",
       "        vertical-align: middle;\n",
       "    }\n",
       "\n",
       "    .dataframe tbody tr th {\n",
       "        vertical-align: top;\n",
       "    }\n",
       "\n",
       "    .dataframe thead th {\n",
       "        text-align: right;\n",
       "    }\n",
       "</style>\n",
       "<table border=\"1\" class=\"dataframe\">\n",
       "  <thead>\n",
       "    <tr style=\"text-align: right;\">\n",
       "      <th></th>\n",
       "      <th>id</th>\n",
       "      <th>metadata</th>\n",
       "      <th>timestamp</th>\n",
       "    </tr>\n",
       "  </thead>\n",
       "  <tbody>\n",
       "    <tr>\n",
       "      <th>0</th>\n",
       "      <td>evt_PbkdOL8geyyXLIOr</td>\n",
       "      <td>{'position': 'start'}</td>\n",
       "      <td>2018-07-24 03:28:47+00:00</td>\n",
       "    </tr>\n",
       "  </tbody>\n",
       "</table>\n",
       "</div>"
      ],
      "text/plain": [
       "                     id               metadata                 timestamp\n",
       "0  evt_PbkdOL8geyyXLIOr  {'position': 'start'} 2018-07-24 03:28:47+00:00"
      ]
     },
     "execution_count": 3,
     "metadata": {},
     "output_type": "execute_result"
    }
   ],
   "source": [
    "# Next let's use the client to list some events.\n",
    "\n",
    "import pandas as pd\n",
    "import tabulate\n",
    "\n",
    "events = client.list_events(\n",
    "    device_name=\"Milesbot\", limit=5, key=\"position\", value=\"start\"\n",
    ")\n",
    "desired_fields = [\"id\", \"metadata\", \"timestamp\"]\n",
    "filtered_events = [{k: v for k, v in e.items() if k in desired_fields} for e in events]\n",
    "pd.DataFrame(events, columns=[\"id\", \"metadata\", \"timestamp\"])"
   ]
  },
  {
   "cell_type": "code",
   "execution_count": 4,
   "id": "c9e420a0-422d-4f51-b264-e9330ce2a9c4",
   "metadata": {},
   "outputs": [
    {
     "name": "stdout",
     "output_type": "stream",
     "text": [
      "....................................................................\n",
      "read 3296807 bytes\n"
     ]
    }
   ],
   "source": [
    "# Now we can download some data from data platform.\n",
    "\n",
    "import sys\n",
    "from datetime import datetime, timedelta\n",
    "\n",
    "start_event = events[-1]\n",
    "start_time = start_event[\"timestamp\"]\n",
    "end_time = start_time + timedelta(seconds=1)\n",
    "device_id = start_event[\"device_id\"]\n",
    "\n",
    "download_stream = client.download_data(\n",
    "    device_id=device_id,\n",
    "    start=start_time,\n",
    "    end=end_time,\n",
    "    output_format=OutputFormat.mcap0,\n",
    ")\n",
    "\n",
    "data = bytes()\n",
    "for chunk in download_stream.iter_content(chunk_size=64 * 1024):\n",
    "    sys.stdout.write(\".\")\n",
    "    data += chunk\n",
    "print()\n",
    "print(f\"read {len(data)} bytes\")"
   ]
  },
  {
   "cell_type": "code",
   "execution_count": 7,
   "id": "5b28caf4-09a1-4d81-8499-16977f0d3f79",
   "metadata": {},
   "outputs": [
    {
     "data": {
      "text/html": [
       "<div>\n",
       "<style scoped>\n",
       "    .dataframe tbody tr th:only-of-type {\n",
       "        vertical-align: middle;\n",
       "    }\n",
       "\n",
       "    .dataframe tbody tr th {\n",
       "        vertical-align: top;\n",
       "    }\n",
       "\n",
       "    .dataframe thead th {\n",
       "        text-align: right;\n",
       "    }\n",
       "</style>\n",
       "<table border=\"1\" class=\"dataframe\">\n",
       "  <thead>\n",
       "    <tr style=\"text-align: right;\">\n",
       "      <th></th>\n",
       "      <th>secs</th>\n",
       "      <th>nsecs</th>\n",
       "      <th>x</th>\n",
       "      <th>y</th>\n",
       "    </tr>\n",
       "  </thead>\n",
       "  <tbody>\n",
       "    <tr>\n",
       "      <th>0</th>\n",
       "      <td>1532402927</td>\n",
       "      <td>649034000</td>\n",
       "      <td>-0.411290</td>\n",
       "      <td>-0.480808</td>\n",
       "    </tr>\n",
       "    <tr>\n",
       "      <th>1</th>\n",
       "      <td>1532402927</td>\n",
       "      <td>659077000</td>\n",
       "      <td>-0.533049</td>\n",
       "      <td>-0.210119</td>\n",
       "    </tr>\n",
       "    <tr>\n",
       "      <th>2</th>\n",
       "      <td>1532402927</td>\n",
       "      <td>669063000</td>\n",
       "      <td>-0.738663</td>\n",
       "      <td>-0.400300</td>\n",
       "    </tr>\n",
       "  </tbody>\n",
       "</table>\n",
       "</div>"
      ],
      "text/plain": [
       "         secs      nsecs         x         y\n",
       "0  1532402927  649034000 -0.411290 -0.480808\n",
       "1  1532402927  659077000 -0.533049 -0.210119\n",
       "2  1532402927  669063000 -0.738663 -0.400300"
      ]
     },
     "execution_count": 7,
     "metadata": {},
     "output_type": "execute_result"
    }
   ],
   "source": [
    "# Let's unpack some schemas, channels, and messages, from our mcap stream.\n",
    "\n",
    "from io import BytesIO\n",
    "\n",
    "from genpy import dynamic\n",
    "from mcap.mcap0.records import Channel, Message, Schema\n",
    "from mcap.mcap0.stream_reader import StreamReader\n",
    "\n",
    "reader = StreamReader(BytesIO(data))\n",
    "channels = {}\n",
    "schemas = {}\n",
    "messages = []\n",
    "msg_types = {}\n",
    "for record in reader.records:\n",
    "    if isinstance(record, Schema):\n",
    "        schemas[record.id] = record\n",
    "        if not record.name in msg_types:\n",
    "            msg_type = dynamic.generate_dynamic(record.name, record.data.decode())\n",
    "            msg_types[record.name] = msg_type[record.name]\n",
    "    if isinstance(record, Channel):\n",
    "        channels[record.id] = record\n",
    "    if isinstance(record, Message):\n",
    "        channel = channels[record.channel_id]\n",
    "        schema = schemas[channel.schema_id]\n",
    "        message = msg_types[schema.name]().deserialize(record.data)\n",
    "        if schema.name == \"sensor_msgs/Imu\":\n",
    "            messages.append(\n",
    "                {\n",
    "                    \"secs\": message.header.stamp.secs,\n",
    "                    \"nsecs\": message.header.stamp.nsecs,\n",
    "                    \"x\": message.linear_acceleration.x,\n",
    "                    \"y\": message.linear_acceleration.y,\n",
    "                }\n",
    "            )\n",
    "\n",
    "pd.DataFrame(messages[0:3])"
   ]
  },
  {
   "cell_type": "code",
   "execution_count": 6,
   "id": "85ffe246-0138-4cf3-99cb-096000232822",
   "metadata": {},
   "outputs": [
    {
     "data": {
      "text/plain": [
       "<AxesSubplot:>"
      ]
     },
     "execution_count": 6,
     "metadata": {},
     "output_type": "execute_result"
    },
    {
     "data": {
      "image/png": "[encoded data removed]",
      "text/plain": [
       "<Figure size 432x288 with 1 Axes>"
      ]
     },
     "metadata": {
      "needs_background": "light"
     },
     "output_type": "display_data"
    }
   ],
   "source": [
    "import pandas as pd\n",
    "\n",
    "frame = pd.DataFrame(messages, columns=[\"x\", \"y\"])\n",
    "frame.plot()"
   ]
  },
  {
   "cell_type": "code",
   "execution_count": null,
   "id": "b3be150f-2d3f-4add-ac0a-b63a66694dc2",
   "metadata": {},
   "outputs": [],
   "source": []
  }
 ],
 "metadata": {
  "kernelspec": {
   "display_name": "Python 3 (ipykernel)",
   "language": "python",
   "name": "python3"
  },
  "language_info": {
   "codemirror_mode": {
    "name": "ipython",
    "version": 3
   },
   "file_extension": ".py",
   "mimetype": "text/x-python",
   "name": "python",
   "nbconvert_exporter": "python",
   "pygments_lexer": "ipython3",
   "version": "3.8.9"
  }
 },
 "nbformat": 4,
 "nbformat_minor": 5
}
