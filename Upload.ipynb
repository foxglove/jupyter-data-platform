{
 "cells": [
  {
   "cell_type": "code",
   "execution_count": 37,
   "id": "aed96e2b-a1fd-4e20-abd4-2d134f161afe",
   "metadata": {},
   "outputs": [],
   "source": [
    "from foxglove.data_platform.client import Client, OutputFormat\n",
    "\n",
    "token = \"fox_sk_SBK5ew4HwygFEw9gTdttnLsh3pCtXEoe\"\n",
    "client = Client(token=token)"
   ]
  },
  {
   "cell_type": "code",
   "execution_count": 38,
   "id": "4b9cd8c4-3693-4f0c-bd2a-c9075c4aff8b",
   "metadata": {},
   "outputs": [
    {
     "name": "stdout",
     "output_type": "stream",
     "text": [
      "+----------------------+-------+---------------+----------------------------------+----------------------------------+\n",
      "|          id          | name  | serial_number |            created_at            |            updated_at            |\n",
      "+----------------------+-------+---------------+----------------------------------+----------------------------------+\n",
      "| dev_HlZixhOtLpqrnc5w | dev1  |   12345678    | 2021-11-18 17:43:23.280000+00:00 | 2021-11-18 17:43:23.280000+00:00 |\n",
      "| dev_VEAs3yXd5qeiUwwQ | dev2  |    dev2sn     | 2021-12-08 21:48:40.700000+00:00 | 2021-12-08 21:48:40.700000+00:00 |\n",
      "| dev_ZUlV72z7dN2Rh5pC | Robot |               | 2022-02-23 15:25:53.784000+00:00 | 2022-02-23 15:25:53.784000+00:00 |\n",
      "+----------------------+-------+---------------+----------------------------------+----------------------------------+\n"
     ]
    }
   ],
   "source": [
    "import tabulate\n",
    "\n",
    "devices = client.get_devices()\n",
    "print(tabulate.tabulate(devices, headers=\"keys\", tablefmt=\"pretty\"))"
   ]
  },
  {
   "cell_type": "code",
   "execution_count": 39,
   "id": "85807456-103a-413b-af48-716bc6729faa",
   "metadata": {},
   "outputs": [
    {
     "data": {
      "text/plain": [
       "b'\\x89MCAP0\\r\\n'"
      ]
     },
     "execution_count": 39,
     "metadata": {},
     "output_type": "execute_result"
    }
   ],
   "source": [
    "import time\n",
    "from io import BytesIO\n",
    "\n",
    "from mcap.mcap0.writer import Writer\n",
    "from std_msgs.msg import String\n",
    "\n",
    "output = BytesIO()\n",
    "writer = Writer(output)\n",
    "writer.start(profile=\"ros1\", library=\"mcaptest\")\n",
    "schema_id = writer.register_schema(\n",
    "    name=\"hello_schema\", encoding=\"ros1msg\", data=String._type.encode()\n",
    ")\n",
    "channel_id = writer.register_channel(\n",
    "    topic=\"/hello\", message_encoding=\"ros1\", schema_id=schema_id\n",
    ")\n",
    "channel_id\n",
    "for i in range(1, 10):\n",
    "    buff = BytesIO()\n",
    "    String(f\"Hello {i}\").serialize(buff)\n",
    "    writer.add_message(\n",
    "        channel_id=channel_id,\n",
    "        log_time=time.time_ns(),\n",
    "        publish_time=time.time_ns(),\n",
    "        data=buff.getvalue(),\n",
    "    )\n",
    "writer.finish()\n",
    "mcap = output.getvalue()\n",
    "mcap[:8]"
   ]
  },
  {
   "cell_type": "code",
   "execution_count": 27,
   "id": "2f91de31-aa19-42ed-b4ee-2fa5840a7f42",
   "metadata": {},
   "outputs": [
    {
     "data": {
      "text/plain": [
       "{'link': 'https://storage.googleapis.com/fg-bc6f4c50-9adc-44d0-89a0-d0e8c50b337d-inbox/org_id=bc6f4c50-9adc-44d0-89a0-d0e8c50b337d/device_id=dev_ZUlV72z7dN2Rh5pC/request_id=9fa51c77-3812-4b53-85d2-e838cf0aa791/test%20upload?Expires=1645651282&GoogleAccessId=index-service%40data-platform-dev-842721.iam.gserviceaccount.com&Signature=ZYW0EcSrSUx1pSvzvBpeWMi4S4IVv41Q9D8n2x1ESsb2QfIK9ZOCWWr%2B8CdidrL9rE%2FsiYTYYfi8TxRKXU9NGPBtJ%2B%2FKb3sC2e45BPsQuXujGpDOHvnLl%2BCfisQGGw0fvmWcthcG3s1pCDhs8xYb0SZu2iCpitTLW05hwEoCSBcs7UH80nveTk09B6bgoVCb9sR4BRO8SzPLBoDTGi5YK9%2F0FQTET1chvj2kBgnYMfxW5ztTUdbyfhWQdRTDMXOIWEYxz7dm0Wimc6h3a9MIiKDxMXB4HjMK%2BiMhQ%2FxElbxx2uLqujdbbrk9ssNTjN15yomSDq3UpzWOYsR4gTmKDA%3D%3D',\n",
       " 'text': '',\n",
       " 'code': 200}"
      ]
     },
     "execution_count": 27,
     "metadata": {},
     "output_type": "execute_result"
    }
   ],
   "source": [
    "client.upload_data(device_id=devices[-1][\"id\"], filename=\"test upload\", data=mcap)"
   ]
  },
  {
   "cell_type": "code",
   "execution_count": null,
   "id": "80abf982-8606-4ac6-a283-beb34bff37ad",
   "metadata": {},
   "outputs": [],
   "source": []
  }
 ],
 "metadata": {
  "kernelspec": {
   "display_name": "Python 3 (ipykernel)",
   "language": "python",
   "name": "python3"
  },
  "language_info": {
   "codemirror_mode": {
    "name": "ipython",
    "version": 3
   },
   "file_extension": ".py",
   "mimetype": "text/x-python",
   "name": "python",
   "nbconvert_exporter": "python",
   "pygments_lexer": "ipython3",
   "version": "3.8.9"
  }
 },
 "nbformat": 4,
 "nbformat_minor": 5
}
