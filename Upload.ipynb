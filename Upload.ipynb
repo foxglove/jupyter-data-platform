{
 "cells": [
  {
   "cell_type": "code",
   "execution_count": null,
   "id": "14ec025b-bcbe-4e1f-82f5-46c2b9f3c6ca",
   "metadata": {},
   "outputs": [],
   "source": [
    "# Load our API key from our .env file\n",
    "\n",
    "from dotenv import dotenv_values\n",
    "config = dotenv_values(\".env\")\n",
    "api_key = config[\"API_KEY\"]\n",
    "api_key"
   ]
  },
  {
   "cell_type": "code",
   "execution_count": null,
   "id": "b4e9e4c2-e83f-4543-893d-42bde2f2d2fa",
   "metadata": {},
   "outputs": [],
   "source": [
    "# Create an instance of our client.\n",
    "\n",
    "from foxglove.data_platform.client import Client, OutputFormat\n",
    "\n",
    "client = Client(token=api_key)"
   ]
  },
  {
   "cell_type": "code",
   "execution_count": null,
   "id": "4b9cd8c4-3693-4f0c-bd2a-c9075c4aff8b",
   "metadata": {},
   "outputs": [],
   "source": [
    "import tabulate\n",
    "\n",
    "devices = client.get_devices()\n",
    "print(tabulate.tabulate(devices, headers=\"keys\", tablefmt=\"pretty\"))"
   ]
  },
  {
   "cell_type": "code",
   "execution_count": null,
   "id": "85807456-103a-413b-af48-716bc6729faa",
   "metadata": {},
   "outputs": [],
   "source": [
    "from pathlib import Path\n",
    "\n",
    "mcap_data = Path(\"my_data.mcap\").read_bytes()\n",
    "len(path)"
   ]
  },
  {
   "cell_type": "code",
   "execution_count": null,
   "id": "2f91de31-aa19-42ed-b4ee-2fa5840a7f42",
   "metadata": {},
   "outputs": [],
   "source": [
    "import sys\n",
    "\n",
    "client.upload_data(\n",
    "    device_id=devices[-1][\"id\"],\n",
    "    filename=\"test upload\",\n",
    "    data=mcap_data,\n",
    "    callback=lambda size, progress: sys.stdout.write(\".\"),\n",
    ")"
   ]
  },
  {
   "cell_type": "code",
   "execution_count": null,
   "id": "80abf982-8606-4ac6-a283-beb34bff37ad",
   "metadata": {},
   "outputs": [],
   "source": []
  }
 ],
 "metadata": {
  "kernelspec": {
   "display_name": "Python 3 (ipykernel)",
   "language": "python",
   "name": "python3"
  },
  "language_info": {
   "codemirror_mode": {
    "name": "ipython",
    "version": 3
   },
   "file_extension": ".py",
   "mimetype": "text/x-python",
   "name": "python",
   "nbconvert_exporter": "python",
   "pygments_lexer": "ipython3",
   "version": "3.8.9"
  }
 },
 "nbformat": 4,
 "nbformat_minor": 5
}
